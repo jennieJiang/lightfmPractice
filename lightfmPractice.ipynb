{
 "cells": [
  {
   "cell_type": "code",
   "execution_count": 24,
   "metadata": {},
   "outputs": [],
   "source": [
    "from lightfm import LightFM\n",
    "import pandas as pd\n",
    "import numpy as np\n",
    "from lightfm.datasets import fetch_movielens\n",
    "from lightfm.evaluation import precision_at_k\n",
    "from lightfm.evaluation import auc_score\n",
    "import matplotlib.pyplot as plt\n",
    "%matplotlib inline"
   ]
  },
  {
   "cell_type": "markdown",
   "metadata": {},
   "source": [
    "# 1, load and explore data "
   ]
  },
  {
   "cell_type": "code",
   "execution_count": 3,
   "metadata": {},
   "outputs": [],
   "source": [
    "# Load the MovieLens 100k dataset. Only five , star ratings are treated as positive.\n",
    "data = fetch_movielens(min_rating=5.0)"
   ]
  },
  {
   "cell_type": "code",
   "execution_count": 6,
   "metadata": {},
   "outputs": [
    {
     "data": {
      "text/plain": [
       "{'train': <943x1682 sparse matrix of type '<class 'numpy.float32'>'\n",
       " \twith 19048 stored elements in COOrdinate format>,\n",
       " 'test': <943x1682 sparse matrix of type '<class 'numpy.int32'>'\n",
       " \twith 2153 stored elements in COOrdinate format>,\n",
       " 'item_features': <1682x1682 sparse matrix of type '<class 'numpy.float32'>'\n",
       " \twith 1682 stored elements in Compressed Sparse Row format>,\n",
       " 'item_feature_labels': array(['Toy Story (1995)', 'GoldenEye (1995)', 'Four Rooms (1995)', ...,\n",
       "        'Sliding Doors (1998)', 'You So Crazy (1994)',\n",
       "        'Scream of Stone (Schrei aus Stein) (1991)'], dtype=object),\n",
       " 'item_labels': array(['Toy Story (1995)', 'GoldenEye (1995)', 'Four Rooms (1995)', ...,\n",
       "        'Sliding Doors (1998)', 'You So Crazy (1994)',\n",
       "        'Scream of Stone (Schrei aus Stein) (1991)'], dtype=object)}"
      ]
     },
     "execution_count": 6,
     "metadata": {},
     "output_type": "execute_result"
    }
   ],
   "source": [
    "data"
   ]
  },
  {
   "cell_type": "code",
   "execution_count": 11,
   "metadata": {},
   "outputs": [
    {
     "name": "stdout",
     "output_type": "stream",
     "text": [
      "train <class 'scipy.sparse.coo.coo_matrix'> (943, 1682)\n",
      "test <class 'scipy.sparse.coo.coo_matrix'> (943, 1682)\n",
      "item_features <class 'scipy.sparse.csr.csr_matrix'> (1682, 1682)\n",
      "item_feature_labels <class 'numpy.ndarray'> (1682,)\n",
      "item_labels <class 'numpy.ndarray'> (1682,)\n"
     ]
    }
   ],
   "source": [
    "# show data info\n",
    "for key,value in data.items():\n",
    "    print(key,type(value),value.shape)"
   ]
  },
  {
   "cell_type": "code",
   "execution_count": 14,
   "metadata": {},
   "outputs": [
    {
     "data": {
      "text/plain": [
       "matrix([[0, 0, 0, 0, 0, 0, 0, 0, 0, 0, 0, 0, 0, 0, 0, 0, 0, 0, 0, 0, 0,\n",
       "         0, 0, 0, 0, 0, 0, 0, 0, 0, 0, 0, 0, 0, 0, 0, 0, 0, 0, 0, 0, 0,\n",
       "         0, 0, 0, 0, 0, 0, 0, 0, 0, 0, 0, 0, 0, 0, 0, 0, 0, 0, 0, 0, 0,\n",
       "         0, 0, 0, 0, 0, 0, 0, 0, 0, 0, 0, 0, 0, 0, 0, 0, 0, 0, 0, 0, 0,\n",
       "         0, 0, 0, 0, 0, 0, 0, 0, 0, 0, 0, 0, 0, 0, 0, 0]], dtype=int32)"
      ]
     },
     "execution_count": 14,
     "metadata": {},
     "output_type": "execute_result"
    }
   ],
   "source": [
    "# show 100 columns of test data \n",
    "data['test'].todense()[:1,:100]"
   ]
  },
  {
   "cell_type": "code",
   "execution_count": 17,
   "metadata": {},
   "outputs": [
    {
     "name": "stdout",
     "output_type": "stream",
     "text": [
      "  Toy Story (1995) GoldenEye (1995) Four Rooms (1995) Get Shorty (1995)  \\\n",
      "0              5.0              0.0               0.0               0.0   \n",
      "1              0.0              0.0               0.0               0.0   \n",
      "2              0.0              0.0               0.0               0.0   \n",
      "3              0.0              0.0               0.0               0.0   \n",
      "4              0.0              0.0               0.0               0.0   \n",
      "\n",
      "  Copycat (1995) Shanghai Triad (Yao a yao yao dao waipo qiao) (1995)  \\\n",
      "0            0.0                                                5.0     \n",
      "1            0.0                                                0.0     \n",
      "2            0.0                                                0.0     \n",
      "3            0.0                                                0.0     \n",
      "4            0.0                                                0.0     \n",
      "\n",
      "  Twelve Monkeys (1995) Babe (1995) Dead Man Walking (1995)  \\\n",
      "0                   0.0         0.0                     5.0   \n",
      "1                   0.0         0.0                     0.0   \n",
      "2                   0.0         0.0                     0.0   \n",
      "3                   0.0         0.0                     0.0   \n",
      "4                   0.0         0.0                     0.0   \n",
      "\n",
      "  Richard III (1995)  ... Mirage (1995) Mamma Roma (1962)  \\\n",
      "0                0.0  ...           0.0               0.0   \n",
      "1                0.0  ...           0.0               0.0   \n",
      "2                0.0  ...           0.0               0.0   \n",
      "3                0.0  ...           0.0               0.0   \n",
      "4                0.0  ...           0.0               0.0   \n",
      "\n",
      "  Sunchaser, The (1996) War at Home, The (1996) Sweet Nothing (1995)  \\\n",
      "0                   0.0                     0.0                  0.0   \n",
      "1                   0.0                     0.0                  0.0   \n",
      "2                   0.0                     0.0                  0.0   \n",
      "3                   0.0                     0.0                  0.0   \n",
      "4                   0.0                     0.0                  0.0   \n",
      "\n",
      "  Mat' i syn (1997) B. Monkey (1998) Sliding Doors (1998) You So Crazy (1994)  \\\n",
      "0               0.0              0.0                  0.0                 0.0   \n",
      "1               0.0              0.0                  0.0                 0.0   \n",
      "2               0.0              0.0                  0.0                 0.0   \n",
      "3               0.0              0.0                  0.0                 0.0   \n",
      "4               0.0              0.0                  0.0                 0.0   \n",
      "\n",
      "  Scream of Stone (Schrei aus Stein) (1991)  \n",
      "0                                       0.0  \n",
      "1                                       0.0  \n",
      "2                                       0.0  \n",
      "3                                       0.0  \n",
      "4                                       0.0  \n",
      "\n",
      "[5 rows x 1682 columns]\n",
      "----------------------\n"
     ]
    }
   ],
   "source": [
    "# transform data format for explore\n",
    "# 每行为一个用户，每列为一部电影\n",
    "data_train = pd.DataFrame(data['train'].todense(),columns=[data['item_labels']])\n",
    "print(data_train.head())\n",
    "print('----------------------')"
   ]
  },
  {
   "cell_type": "code",
   "execution_count": 18,
   "metadata": {},
   "outputs": [
    {
     "data": {
      "text/html": [
       "<div>\n",
       "<style scoped>\n",
       "    .dataframe tbody tr th:only-of-type {\n",
       "        vertical-align: middle;\n",
       "    }\n",
       "\n",
       "    .dataframe tbody tr th {\n",
       "        vertical-align: top;\n",
       "    }\n",
       "\n",
       "    .dataframe thead th {\n",
       "        text-align: right;\n",
       "    }\n",
       "</style>\n",
       "<table border=\"1\" class=\"dataframe\">\n",
       "  <thead>\n",
       "    <tr style=\"text-align: right;\">\n",
       "      <th></th>\n",
       "      <th>0</th>\n",
       "      <th>1</th>\n",
       "      <th>2</th>\n",
       "      <th>3</th>\n",
       "      <th>4</th>\n",
       "      <th>5</th>\n",
       "      <th>6</th>\n",
       "      <th>7</th>\n",
       "      <th>8</th>\n",
       "      <th>9</th>\n",
       "      <th>...</th>\n",
       "      <th>933</th>\n",
       "      <th>934</th>\n",
       "      <th>935</th>\n",
       "      <th>936</th>\n",
       "      <th>937</th>\n",
       "      <th>938</th>\n",
       "      <th>939</th>\n",
       "      <th>940</th>\n",
       "      <th>941</th>\n",
       "      <th>942</th>\n",
       "    </tr>\n",
       "  </thead>\n",
       "  <tbody>\n",
       "    <tr>\n",
       "      <th>Toy Story (1995)</th>\n",
       "      <td>5.0</td>\n",
       "      <td>0.0</td>\n",
       "      <td>0.0</td>\n",
       "      <td>0.0</td>\n",
       "      <td>0.0</td>\n",
       "      <td>0.0</td>\n",
       "      <td>0.0</td>\n",
       "      <td>0.0</td>\n",
       "      <td>0.0</td>\n",
       "      <td>0.0</td>\n",
       "      <td>...</td>\n",
       "      <td>0.0</td>\n",
       "      <td>0.0</td>\n",
       "      <td>0.0</td>\n",
       "      <td>0.0</td>\n",
       "      <td>0.0</td>\n",
       "      <td>0.0</td>\n",
       "      <td>0.0</td>\n",
       "      <td>5.0</td>\n",
       "      <td>0.0</td>\n",
       "      <td>0.0</td>\n",
       "    </tr>\n",
       "    <tr>\n",
       "      <th>GoldenEye (1995)</th>\n",
       "      <td>0.0</td>\n",
       "      <td>0.0</td>\n",
       "      <td>0.0</td>\n",
       "      <td>0.0</td>\n",
       "      <td>0.0</td>\n",
       "      <td>0.0</td>\n",
       "      <td>0.0</td>\n",
       "      <td>0.0</td>\n",
       "      <td>0.0</td>\n",
       "      <td>0.0</td>\n",
       "      <td>...</td>\n",
       "      <td>0.0</td>\n",
       "      <td>0.0</td>\n",
       "      <td>0.0</td>\n",
       "      <td>0.0</td>\n",
       "      <td>0.0</td>\n",
       "      <td>0.0</td>\n",
       "      <td>0.0</td>\n",
       "      <td>0.0</td>\n",
       "      <td>0.0</td>\n",
       "      <td>5.0</td>\n",
       "    </tr>\n",
       "    <tr>\n",
       "      <th>Four Rooms (1995)</th>\n",
       "      <td>0.0</td>\n",
       "      <td>0.0</td>\n",
       "      <td>0.0</td>\n",
       "      <td>0.0</td>\n",
       "      <td>0.0</td>\n",
       "      <td>0.0</td>\n",
       "      <td>0.0</td>\n",
       "      <td>0.0</td>\n",
       "      <td>0.0</td>\n",
       "      <td>0.0</td>\n",
       "      <td>...</td>\n",
       "      <td>0.0</td>\n",
       "      <td>0.0</td>\n",
       "      <td>0.0</td>\n",
       "      <td>0.0</td>\n",
       "      <td>0.0</td>\n",
       "      <td>0.0</td>\n",
       "      <td>0.0</td>\n",
       "      <td>0.0</td>\n",
       "      <td>0.0</td>\n",
       "      <td>0.0</td>\n",
       "    </tr>\n",
       "    <tr>\n",
       "      <th>Get Shorty (1995)</th>\n",
       "      <td>0.0</td>\n",
       "      <td>0.0</td>\n",
       "      <td>0.0</td>\n",
       "      <td>0.0</td>\n",
       "      <td>0.0</td>\n",
       "      <td>0.0</td>\n",
       "      <td>5.0</td>\n",
       "      <td>0.0</td>\n",
       "      <td>0.0</td>\n",
       "      <td>0.0</td>\n",
       "      <td>...</td>\n",
       "      <td>5.0</td>\n",
       "      <td>0.0</td>\n",
       "      <td>0.0</td>\n",
       "      <td>0.0</td>\n",
       "      <td>0.0</td>\n",
       "      <td>0.0</td>\n",
       "      <td>0.0</td>\n",
       "      <td>0.0</td>\n",
       "      <td>0.0</td>\n",
       "      <td>0.0</td>\n",
       "    </tr>\n",
       "    <tr>\n",
       "      <th>Copycat (1995)</th>\n",
       "      <td>0.0</td>\n",
       "      <td>0.0</td>\n",
       "      <td>0.0</td>\n",
       "      <td>0.0</td>\n",
       "      <td>0.0</td>\n",
       "      <td>0.0</td>\n",
       "      <td>0.0</td>\n",
       "      <td>0.0</td>\n",
       "      <td>0.0</td>\n",
       "      <td>0.0</td>\n",
       "      <td>...</td>\n",
       "      <td>0.0</td>\n",
       "      <td>0.0</td>\n",
       "      <td>0.0</td>\n",
       "      <td>0.0</td>\n",
       "      <td>0.0</td>\n",
       "      <td>0.0</td>\n",
       "      <td>0.0</td>\n",
       "      <td>0.0</td>\n",
       "      <td>0.0</td>\n",
       "      <td>0.0</td>\n",
       "    </tr>\n",
       "  </tbody>\n",
       "</table>\n",
       "<p>5 rows × 943 columns</p>\n",
       "</div>"
      ],
      "text/plain": [
       "                   0    1    2    3    4    5    6    7    8    9    ...  933  \\\n",
       "Toy Story (1995)   5.0  0.0  0.0  0.0  0.0  0.0  0.0  0.0  0.0  0.0  ...  0.0   \n",
       "GoldenEye (1995)   0.0  0.0  0.0  0.0  0.0  0.0  0.0  0.0  0.0  0.0  ...  0.0   \n",
       "Four Rooms (1995)  0.0  0.0  0.0  0.0  0.0  0.0  0.0  0.0  0.0  0.0  ...  0.0   \n",
       "Get Shorty (1995)  0.0  0.0  0.0  0.0  0.0  0.0  5.0  0.0  0.0  0.0  ...  5.0   \n",
       "Copycat (1995)     0.0  0.0  0.0  0.0  0.0  0.0  0.0  0.0  0.0  0.0  ...  0.0   \n",
       "\n",
       "                   934  935  936  937  938  939  940  941  942  \n",
       "Toy Story (1995)   0.0  0.0  0.0  0.0  0.0  0.0  5.0  0.0  0.0  \n",
       "GoldenEye (1995)   0.0  0.0  0.0  0.0  0.0  0.0  0.0  0.0  5.0  \n",
       "Four Rooms (1995)  0.0  0.0  0.0  0.0  0.0  0.0  0.0  0.0  0.0  \n",
       "Get Shorty (1995)  0.0  0.0  0.0  0.0  0.0  0.0  0.0  0.0  0.0  \n",
       "Copycat (1995)     0.0  0.0  0.0  0.0  0.0  0.0  0.0  0.0  0.0  \n",
       "\n",
       "[5 rows x 943 columns]"
      ]
     },
     "execution_count": 18,
     "metadata": {},
     "output_type": "execute_result"
    }
   ],
   "source": [
    "# 宽表转换为长表，用.transpose() 转置\n",
    "# 每行表示一部电影，每列是一个用户\n",
    "data_train_trans_df = data_train.transpose()\n",
    "data_train_trans_df.head()"
   ]
  },
  {
   "cell_type": "code",
   "execution_count": 20,
   "metadata": {},
   "outputs": [
    {
     "data": {
      "text/plain": [
       "[2.3, 2.1, 1.0]"
      ]
     },
     "execution_count": 20,
     "metadata": {},
     "output_type": "execute_result"
    }
   ],
   "source": [
    "a = [1.0,2.1,2.3,4.0]\n",
    "a[:3][::-1]"
   ]
  },
  {
   "cell_type": "code",
   "execution_count": 23,
   "metadata": {},
   "outputs": [
    {
     "data": {
      "text/plain": [
       "Text(0.5, 0, 'count of item')"
      ]
     },
     "execution_count": 23,
     "metadata": {},
     "output_type": "execute_result"
    },
    {
     "data": {
      "image/png": "[encoded data removed]",
      "text/plain": [
       "<Figure size 432x288 with 1 Axes>"
      ]
     },
     "metadata": {
      "needs_background": "light"
     },
     "output_type": "display_data"
    }
   ],
   "source": [
    "# 计算评分最多的电影\n",
    "def count_label(x):\n",
    "    if x > 0:\n",
    "        return True\n",
    "    else:\n",
    "        return False\n",
    "\n",
    "item_count = data_train_trans_df.applymap(count_label).sum(axis=1)\n",
    "item_count.sort_values(ascending = False)[:20][::-1].plot.barh()\n",
    "plt.xlabel('count of item')"
   ]
  },
  {
   "cell_type": "markdown",
   "metadata": {},
   "source": [
    "# 2, train FM model"
   ]
  },
  {
   "cell_type": "markdown",
   "metadata": {},
   "source": [
    "## 2.1  using warp as loss"
   ]
  },
  {
   "cell_type": "code",
   "execution_count": 4,
   "metadata": {},
   "outputs": [
    {
     "data": {
      "text/plain": [
       "<lightfm.lightfm.LightFM at 0x7fd21395e4e0>"
      ]
     },
     "execution_count": 4,
     "metadata": {},
     "output_type": "execute_result"
    }
   ],
   "source": [
    "# Instantiate and train the model\n",
    "model = LightFM(loss='warp')\n",
    "model.fit(data['train'],epochs=30,num_threads=2)"
   ]
  },
  {
   "cell_type": "code",
   "execution_count": 28,
   "metadata": {},
   "outputs": [
    {
     "name": "stdout",
     "output_type": "stream",
     "text": [
      "train precision : 0.39\n",
      "test precision : 0.05\n"
     ]
    }
   ],
   "source": [
    "# Evaluate the trained model\n",
    "train_precision = precision_at_k(model,data['train'],k=5).mean()\n",
    "test_precision = precision_at_k(model,data['test'],k=5).mean()\n",
    "print('train precision : {:.2f}'.format(train_precision))\n",
    "print('test precision : {:.2f}'.format(test_precision))"
   ]
  },
  {
   "cell_type": "code",
   "execution_count": 30,
   "metadata": {},
   "outputs": [
    {
     "name": "stdout",
     "output_type": "stream",
     "text": [
      "train auc score: 0.97\n",
      "test auc score : 0.92\n"
     ]
    }
   ],
   "source": [
    "train_auc = auc_score(model,data['train']).mean()\n",
    "test_auc = auc_score(model,data['test']).mean()\n",
    "print('train auc score: {:.2f}'.format(train_auc))\n",
    "print('test auc score : {:.2f}'.format(test_auc))"
   ]
  },
  {
   "cell_type": "markdown",
   "metadata": {},
   "source": [
    "## 2.2 using bpr as loss"
   ]
  },
  {
   "cell_type": "code",
   "execution_count": 31,
   "metadata": {},
   "outputs": [
    {
     "data": {
      "text/plain": [
       "<lightfm.lightfm.LightFM at 0x7fd2049a9828>"
      ]
     },
     "execution_count": 31,
     "metadata": {},
     "output_type": "execute_result"
    }
   ],
   "source": [
    "# Instantiate and train the model\n",
    "model2 = LightFM(loss='bpr')\n",
    "model2.fit(data['train'],epochs=30,num_threads=2)"
   ]
  },
  {
   "cell_type": "code",
   "execution_count": 32,
   "metadata": {},
   "outputs": [
    {
     "name": "stdout",
     "output_type": "stream",
     "text": [
      "train precision : 0.45\n",
      "test precision : 0.04\n",
      "-----------------\n",
      "train auc score: 0.93\n",
      "test auc score : 0.80\n"
     ]
    }
   ],
   "source": [
    "# Evaluate the trained model\n",
    "train_precision = precision_at_k(model2,data['train'],k=5).mean()\n",
    "test_precision = precision_at_k(model2,data['test'],k=5).mean()\n",
    "print('train precision : {:.2f}'.format(train_precision))\n",
    "print('test precision : {:.2f}'.format(test_precision))\n",
    "print('-----------------')\n",
    "train_auc = auc_score(model2,data['train']).mean()\n",
    "test_auc = auc_score(model2,data['test']).mean()\n",
    "print('train auc score: {:.2f}'.format(train_auc))\n",
    "print('test auc score : {:.2f}'.format(test_auc))"
   ]
  },
  {
   "cell_type": "markdown",
   "metadata": {},
   "source": [
    "# 3, generate recommendations for user"
   ]
  },
  {
   "cell_type": "markdown",
   "metadata": {},
   "source": [
    "### using 'warp' as loss because better performance"
   ]
  },
  {
   "cell_type": "code",
   "execution_count": 47,
   "metadata": {},
   "outputs": [
    {
     "name": "stdout",
     "output_type": "stream",
     "text": [
      "[-0.22396916 -2.65647864 -2.15828228 ... -2.09169221 -2.04696894\n",
      " -1.94796824]\n"
     ]
    }
   ],
   "source": [
    "n_users, n_movies = data['train'].shape\n",
    "score = model.predict(1,np.arange(n_movies))\n",
    "print(score)"
   ]
  },
  {
   "cell_type": "code",
   "execution_count": 50,
   "metadata": {},
   "outputs": [
    {
     "data": {
      "text/plain": [
       "array([2, 1, 0])"
      ]
     },
     "execution_count": 50,
     "metadata": {},
     "output_type": "execute_result"
    }
   ],
   "source": [
    "a = [-1.1,-2.3,-3.3]\n",
    "np.argsort(a)"
   ]
  },
  {
   "cell_type": "code",
   "execution_count": 51,
   "metadata": {},
   "outputs": [],
   "source": [
    "def recommendation(model,data,user_ids):\n",
    "    n_users,n_movies = data['train'].shape\n",
    "    # find items user interacted\n",
    "    \n",
    "    for user_id in user_ids:\n",
    "        seen_movies = data['item_labels'][data['train'].tocsr()[user_ids].indices]\n",
    "        score = model.predict(user_id,np.arange(n_movies))\n",
    "        top_movies = data['item_labels'][np.argsort(-score)] \n",
    "        print('user_id:',user_id)\n",
    "        print('user seen movies:')\n",
    "        \n",
    "        for movie in seen_movies[:3]:\n",
    "            print(movie)\n",
    "            \n",
    "        print('user top movies:')\n",
    "        for movie in top_movies[:3]:\n",
    "            print(movie)\n",
    "    "
   ]
  },
  {
   "cell_type": "code",
   "execution_count": 52,
   "metadata": {},
   "outputs": [
    {
     "name": "stdout",
     "output_type": "stream",
     "text": [
      "user_id: 0\n",
      "user seen movies:\n",
      "Toy Story (1995)\n",
      "Shanghai Triad (Yao a yao yao dao waipo qiao) (1995)\n",
      "Dead Man Walking (1995)\n",
      "user top movies:\n",
      "Fargo (1996)\n",
      "Close Shave, A (1995)\n",
      "Usual Suspects, The (1995)\n",
      "user_id: 10\n",
      "user seen movies:\n",
      "Toy Story (1995)\n",
      "Shanghai Triad (Yao a yao yao dao waipo qiao) (1995)\n",
      "Dead Man Walking (1995)\n",
      "user top movies:\n",
      "Star Wars (1977)\n",
      "English Patient, The (1996)\n",
      "Toy Story (1995)\n",
      "user_id: 20\n",
      "user seen movies:\n",
      "Toy Story (1995)\n",
      "Shanghai Triad (Yao a yao yao dao waipo qiao) (1995)\n",
      "Dead Man Walking (1995)\n",
      "user top movies:\n",
      "Fargo (1996)\n",
      "Twelve Monkeys (1995)\n",
      "Pulp Fiction (1994)\n"
     ]
    }
   ],
   "source": [
    "recommendation(model,data,[0,10,20])"
   ]
  },
  {
   "cell_type": "code",
   "execution_count": null,
   "metadata": {},
   "outputs": [],
   "source": []
  }
 ],
 "metadata": {
  "kernelspec": {
   "display_name": "Python 3",
   "language": "python",
   "name": "python3"
  },
  "language_info": {
   "codemirror_mode": {
    "name": "ipython",
    "version": 3
   },
   "file_extension": ".py",
   "mimetype": "text/x-python",
   "name": "python",
   "nbconvert_exporter": "python",
   "pygments_lexer": "ipython3",
   "version": "3.6.8"
  }
 },
 "nbformat": 4,
 "nbformat_minor": 4
}
